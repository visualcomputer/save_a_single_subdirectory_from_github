{
 "cells": [
  {
   "cell_type": "code",
   "execution_count": 4,
   "metadata": {},
   "outputs": [],
   "source": [
    "import requests\n",
    "import os\n",
    "\n",
    "def save_a_single_subdirectory_from_github(repository_url: str, subdirectory_of_repository: str, local_save_path: str, recursive:bool = True):\n",
    "    \"\"\"\n",
    "    This function downloads a single sub-directory of a GitHub repository\n",
    "    All sub-folders in that sub-directory will be downloaded as well.\n",
    "\n",
    "    Params:\n",
    "        repository_url: Shall be in this format: \"https://github.com/<username>/<repository>\n",
    "        subdirectory_of_repository: The subdirectory in the repository that you want to download it.\n",
    "        local_save_path: The RELATIVE local path in the current folder of project that you want the files to be saved in.\n",
    "        recursive: is a boolean parameter. If it is True, all the subfloders inside the subdirectory_of_repository will be downloaded. But if it is False, only the files will be downloaded and floders will be ignored.  \n",
    "    \"\"\"\n",
    "    # Extract the 'username/repository' from url\n",
    "    main_repo_address = repository_url[19:]\n",
    "\n",
    "    api_url = f\"https://api.github.com/repos/{main_repo_address}/contents/{subdirectory_of_repository}?ref=main\"\n",
    "    # url = \"https://api.github.com/repos/mrdbourke/pytorch-deep-learning/contents/going_modular?ref=main\"\n",
    "\n",
    "    os.makedirs(local_save_path,exist_ok=True)\n",
    "\n",
    "    # Send a GET request to the API endpoint to get the contents of the folder\n",
    "    response = requests.get(api_url)\n",
    "\n",
    "    # Iterate over the contents of the folder in the API response\n",
    "    for file in response.json():\n",
    "        # Skip the file if it's a subdirectory\n",
    "        try:\n",
    "            if file[\"type\"] == \"dir\" and recursive == True:\n",
    "                save_a_single_subdirectory_from_github(repository_url,file[\"path\"], os.path.join(local_save_path, file[\"name\"]))\n",
    "                print(f'{os.path.join(local_save_path, file[\"name\"])}, copied!')\n",
    "            # Get the download URL of the file\n",
    "            download_url = file[\"download_url\"]\n",
    "            # Define the path and filename of the file you want to save on your local machine\n",
    "            filename = file[\"name\"]\n",
    "            file_path = os.path.join(local_save_path, filename)\n",
    "            # Send a GET request to the download URL to download the file contents\n",
    "            file_response = requests.get(download_url)\n",
    "            # Write the contents of the response to a file on your local machine\n",
    "            with open(file_path, \"wb\") as f:\n",
    "                f.write(file_response.content)\n",
    "        except:\n",
    "            pass\n",
    "        \n",
    "save_a_single_subdirectory_from_github(repository_url=\"https://github.com/triple-Mu/YOLOv8-TensorRT\",\n",
    "                                       subdirectory_of_repository=\"/csrc/jetson/detect/\",\n",
    "                                       local_save_path=\"data/\",\n",
    "                                       recursive=False)"
   ]
  }
 ],
 "metadata": {
  "kernelspec": {
   "display_name": "Python 3",
   "language": "python",
   "name": "python3"
  },
  "language_info": {
   "codemirror_mode": {
    "name": "ipython",
    "version": 3
   },
   "file_extension": ".py",
   "mimetype": "text/x-python",
   "name": "python",
   "nbconvert_exporter": "python",
   "pygments_lexer": "ipython3",
   "version": "3.10.6"
  },
  "orig_nbformat": 4
 },
 "nbformat": 4,
 "nbformat_minor": 2
}
